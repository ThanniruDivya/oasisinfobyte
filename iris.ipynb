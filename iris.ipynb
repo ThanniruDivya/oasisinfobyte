{
  "metadata": {
    "kernelspec": {
      "name": "python",
      "display_name": "Python (Pyodide)",
      "language": "python"
    },
    "language_info": {
      "codemirror_mode": {
        "name": "python",
        "version": 3
      },
      "file_extension": ".py",
      "mimetype": "text/x-python",
      "name": "python",
      "nbconvert_exporter": "python",
      "pygments_lexer": "ipython3",
      "version": "3.8"
    }
  },
  "nbformat_minor": 4,
  "nbformat": 4,
  "cells": [
    {
      "cell_type": "code",
      "source": "# Import necessary libraries\nfrom sklearn.datasets import load_iris\nfrom sklearn.preprocessing import StandardScaler\nfrom sklearn.neighbors import KNeighborsClassifier\n\n# Load the iris dataset\niris = load_iris()\n\n# Standardize features by removing the mean and scaling to unit variance\nscaler = StandardScaler()\nX = scaler.fit_transform(iris.data)  # Standardize all features\n\n# Initialize the K-Nearest Neighbors classifier\nknn = KNeighborsClassifier(n_neighbors=3)\n\n# Train the classifier on the entire dataset\nknn.fit(X, iris.target)\n\n# Function to classify a single flower based on its measurements\ndef classify_flower(sepal_length, sepal_width, petal_length, petal_width):\n    # Standardize the input features\n    flower = [[sepal_length, sepal_width, petal_length, petal_width]]\n    flower = scaler.transform(flower)\n    \n    # Predict the class of the flower\n    predicted_class = knn.predict(flower)\n    \n    # Map the predicted class to the corresponding species name\n    species = iris.target_names[predicted_class[0]]\n    \n    return species\n\n# Example usage\nsepal_length = 5.1\nsepal_width = 3.5\npetal_length = 1.4\npetal_width = 0.2\n\npredicted_species = classify_flower(sepal_length, sepal_width, petal_length, petal_width)\nprint(\"Predicted species:\", predicted_species)",
      "metadata": {
        "trusted": true
      },
      "outputs": [
        {
          "name": "stdout",
          "text": "Predicted species: setosa\n",
          "output_type": "stream"
        }
      ],
      "execution_count": 1
    },
    {
      "cell_type": "code",
      "source": "",
      "metadata": {
        "trusted": true
      },
      "outputs": [],
      "execution_count": null
    }
  ]
}